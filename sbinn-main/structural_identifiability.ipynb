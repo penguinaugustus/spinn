{
 "cells": [
  {
   "cell_type": "code",
   "execution_count": 1,
   "id": "eb20974e",
   "metadata": {},
   "outputs": [],
   "source": [
    "### For first-time users, the StructuralIdentifiability package can be installed by the following command\n",
    "#using Pkg\n",
    "#Pkg.add(\"StructuralIdentifiability\")\n",
    "\n",
    "using StructuralIdentifiability"
   ]
  },
  {
   "cell_type": "code",
   "execution_count": 2,
   "id": "3a69b644",
   "metadata": {},
   "outputs": [
    {
     "name": "stderr",
     "output_type": "stream",
     "text": [
      "\u001b[36m\u001b[1m[ \u001b[22m\u001b[39m\u001b[36m\u001b[1mInfo: \u001b[22m\u001b[39mSummary of the model:\n",
      "\u001b[36m\u001b[1m[ \u001b[22m\u001b[39m\u001b[36m\u001b[1mInfo: \u001b[22m\u001b[39mState variables: h1, G, Ip, h2, h3, g1, g2, g3, Ii, g4\n",
      "\u001b[36m\u001b[1m[ \u001b[22m\u001b[39m\u001b[36m\u001b[1mInfo: \u001b[22m\u001b[39mParameters: C2, alpha, Um, C1, Ub, tp, E, Vp, Vg, td, ti, beta, Vi, Rg, U0\n",
      "\u001b[36m\u001b[1m[ \u001b[22m\u001b[39m\u001b[36m\u001b[1mInfo: \u001b[22m\u001b[39mInputs: IG\n",
      "\u001b[36m\u001b[1m[ \u001b[22m\u001b[39m\u001b[36m\u001b[1mInfo: \u001b[22m\u001b[39mOutputs: y\n"
     ]
    },
    {
     "data": {
      "text/plain": [
       "h2'(t) = (h1(t) - h2(t))//td\n",
       "h3'(t) = (-h3(t) + h2(t))//td\n",
       "g1'(t) = (-IG(t)*g3(t)*Vg*g1(t)*g4(t) + IG(t)*g3(t)*Vg*g4(t) + 1//100*Um*g1(t)*g4(t)*G(t) - 1//100*Um*g4(t)*G(t) + g3(t)*Ub*g2(t)*Vg*g1(t)*g4(t) - g3(t)*Ub*g2(t)*Vg*g4(t) - g3(t)*Vg*g1(t)*Rg + g3(t)*Vg*Rg + 1//100*g3(t)*g1(t)*g4(t)*G(t)*U0 - 1//100*g3(t)*g4(t)*G(t)*U0)//(C1*g3(t)*Vg^2*g4(t))\n",
       "Ip'(t) = (-Ip(t)*tp*E*g1(t)*Vi - Ip(t)*Vp*g1(t)*Vi + tp*Ii(t)*E*Vp*g1(t) + 209*tp*Vp*Vi)//(tp*Vp*g1(t)*Vi)\n",
       "Ii'(t) = (Ip(t)*E*ti*Vi - Ii(t)*E*Vp*ti - Ii(t)*Vp*Vi)//(Vp*ti*Vi)\n",
       "G'(t) = (IG(t)*g3(t)*Vg*g4(t) - 1//100*Um*g4(t)*G(t) - g3(t)*Ub*g2(t)*Vg*g4(t) + g3(t)*Vg*Rg - 1//100*g3(t)*g4(t)*G(t)*U0)//(g3(t)*Vg*g4(t))\n",
       "h1'(t) = (-h1(t) + Ip(t))//td\n",
       "g2'(t) = (-IG(t)*g3(t)*g2(t)*Vg*g4(t) + IG(t)*g3(t)*Vg*g4(t) + 1//100*Um*g2(t)*g4(t)*G(t) - 1//100*Um*g4(t)*G(t) + g3(t)*Ub*g2(t)^2*Vg*g4(t) - g3(t)*Ub*g2(t)*Vg*g4(t) - g3(t)*g2(t)*Vg*Rg + 1//100*g3(t)*g2(t)*g4(t)*G(t)*U0 + g3(t)*Vg*Rg - 1//100*g3(t)*g4(t)*G(t)*U0)//(C2*g3(t)*Vg^2*g4(t))\n",
       "g3'(t) = (-g3(t)*Ip(t)*E*ti*beta*Vi + g3(t)*Ii(t)*E*Vp*ti*beta + g3(t)*Ii(t)*Vp*beta*Vi + Ip(t)*E*ti*beta*Vi - Ii(t)*E*Vp*ti*beta - Ii(t)*Vp*beta*Vi)//(Ii(t)*Vp*ti*Vi)\n",
       "g4'(t) = (-1//26*alpha*h3(t)*g4(t) + 1//26*alpha*h3(t) + 1//26*alpha*g4(t)*h2(t) - 1//26*alpha*h2(t))//(Vp*td)\n",
       "y(t) = G(t)\n"
      ]
     },
     "execution_count": 2,
     "metadata": {},
     "output_type": "execute_result"
    }
   ],
   "source": [
    "# Given G, infer all parameters case\n",
    "ode = @ODEmodel(\n",
    "    Ip'(t) = 209 / g1(t) - E * (Ip(t) / Vp - Ii(t) / Vi) - Ip(t) / tp,\n",
    "    Ii'(t) = E * (Ip(t) / Vp - Ii(t) / Vi) - Ii(t) / ti,\n",
    "    G'(t) = Rg / g4(t) + IG(t) - Ub * g2(t) - (U0 + Um / g3(t)) / Vg / 100 * G(t),\n",
    "    h1'(t) = (Ip(t) - h1(t)) / td,\n",
    "    h2'(t) = (h1(t) - h2(t)) / td,\n",
    "    h3'(t) = (h2(t) - h3(t)) / td,\n",
    "    g1'(t) = -(g1(t)-1)/Vg/C1*(Rg / g4(t) + IG(t) - Ub * g2(t) - (U0 + Um / g3(t)) / Vg / 100 * G(t)),\n",
    "    g2'(t) = -(g2(t)-1)/Vg/C2*(Rg / g4(t) + IG(t) - Ub * g2(t) - (U0 + Um / g3(t)) / Vg / 100 * G(t)),\n",
    "    g3'(t) = -beta*(g3(t)-1)/Ii(t)*(E * (Ip(t) / Vp - Ii(t) / Vi) - Ii(t) / ti),\n",
    "    g4'(t) = alpha / 26 / Vp * (g4(t)-1) * (h2(t) - h3(t)) / td,\n",
    "    y(t) = G(t)\n",
    ")"
   ]
  },
  {
   "cell_type": "code",
   "execution_count": 3,
   "id": "38dbd406",
   "metadata": {},
   "outputs": [
    {
     "name": "stderr",
     "output_type": "stream",
     "text": [
      "\u001b[36m\u001b[1m[ \u001b[22m\u001b[39m\u001b[36m\u001b[1mInfo: \u001b[22m\u001b[39mSummary of the model:\n",
      "\u001b[36m\u001b[1m[ \u001b[22m\u001b[39m\u001b[36m\u001b[1mInfo: \u001b[22m\u001b[39mState variables: h1, G, Ip, h2, h3, g1, g2, g3, Ii, g4\n",
      "\u001b[36m\u001b[1m[ \u001b[22m\u001b[39m\u001b[36m\u001b[1mInfo: \u001b[22m\u001b[39mParameters: C2, alpha, Um, C1, Ub, tp, E, Vp, Vg, td, ti, beta, Vi, Rg, U0\n",
      "\u001b[36m\u001b[1m[ \u001b[22m\u001b[39m\u001b[36m\u001b[1mInfo: \u001b[22m\u001b[39mInputs: IG\n",
      "\u001b[36m\u001b[1m[ \u001b[22m\u001b[39m\u001b[36m\u001b[1mInfo: \u001b[22m\u001b[39mOutputs: y3, y1, y2\n"
     ]
    },
    {
     "data": {
      "text/plain": [
       "g2'(t) = (-IG(t)*g3(t)*g2(t)*Vg*g4(t) + IG(t)*g3(t)*Vg*g4(t) + 1//100*Um*g2(t)*g4(t)*G(t) - 1//100*Um*g4(t)*G(t) + g3(t)*Ub*g2(t)^2*Vg*g4(t) - g3(t)*Ub*g2(t)*Vg*g4(t) - g3(t)*g2(t)*Vg*Rg + 1//100*g3(t)*g2(t)*g4(t)*G(t)*U0 + g3(t)*Vg*Rg - 1//100*g3(t)*g4(t)*G(t)*U0)//(C2*g3(t)*Vg^2*g4(t))\n",
       "g1'(t) = (-IG(t)*g3(t)*Vg*g1(t)*g4(t) + IG(t)*g3(t)*Vg*g4(t) + 1//100*Um*g1(t)*g4(t)*G(t) - 1//100*Um*g4(t)*G(t) + g3(t)*Ub*g2(t)*Vg*g1(t)*g4(t) - g3(t)*Ub*g2(t)*Vg*g4(t) - g3(t)*Vg*g1(t)*Rg + g3(t)*Vg*Rg + 1//100*g3(t)*g1(t)*g4(t)*G(t)*U0 - 1//100*g3(t)*g4(t)*G(t)*U0)//(C1*g3(t)*Vg^2*g4(t))\n",
       "h2'(t) = (h1(t) - h2(t))//td\n",
       "h1'(t) = (-h1(t) + Ip(t))//td\n",
       "g4'(t) = (-1//26*alpha*h3(t)*g4(t) + 1//26*alpha*h3(t) + 1//26*alpha*g4(t)*h2(t) - 1//26*alpha*h2(t))//(Vp*td)\n",
       "g3'(t) = (-g3(t)*Ip(t)*E*ti*beta*Vi + g3(t)*Ii(t)*E*Vp*ti*beta + g3(t)*Ii(t)*Vp*beta*Vi + Ip(t)*E*ti*beta*Vi - Ii(t)*E*Vp*ti*beta - Ii(t)*Vp*beta*Vi)//(Ii(t)*Vp*ti*Vi)\n",
       "Ip'(t) = (-Ip(t)*tp*E*g1(t)*Vi - Ip(t)*Vp*g1(t)*Vi + tp*Ii(t)*E*Vp*g1(t) + 209*tp*Vp*Vi)//(tp*Vp*g1(t)*Vi)\n",
       "Ii'(t) = (Ip(t)*E*ti*Vi - Ii(t)*E*Vp*ti - Ii(t)*Vp*Vi)//(Vp*ti*Vi)\n",
       "G'(t) = (IG(t)*g3(t)*Vg*g4(t) - 1//100*Um*g4(t)*G(t) - g3(t)*Ub*g2(t)*Vg*g4(t) + g3(t)*Vg*Rg - 1//100*g3(t)*g4(t)*G(t)*U0)//(g3(t)*Vg*g4(t))\n",
       "h3'(t) = (-h3(t) + h2(t))//td\n",
       "y1(t) = G(t)\n",
       "y2(t) = Ii(t)\n",
       "y3(t) = Ip(t)\n"
      ]
     },
     "execution_count": 3,
     "metadata": {},
     "output_type": "execute_result"
    }
   ],
   "source": [
    "# Given G, I_p, I_i, infer all parameters case\n",
    "ode2 = @ODEmodel(\n",
    "    Ip'(t) = 209 / g1(t) - E * (Ip(t) / Vp - Ii(t) / Vi) - Ip(t) / tp,\n",
    "    Ii'(t) = E * (Ip(t) / Vp - Ii(t) / Vi) - Ii(t) / ti,\n",
    "    G'(t) = Rg / g4(t) + IG(t) - Ub * g2(t) - (U0 + Um / g3(t)) / Vg / 100 * G(t),\n",
    "    h1'(t) = (Ip(t) - h1(t)) / td,\n",
    "    h2'(t) = (h1(t) - h2(t)) / td,\n",
    "    h3'(t) = (h2(t) - h3(t)) / td,\n",
    "    g1'(t) = -(g1(t)-1)/Vg/C1*(Rg / g4(t) + IG(t) - Ub * g2(t) - (U0 + Um / g3(t)) / Vg / 100 * G(t)),\n",
    "    g2'(t) = -(g2(t)-1)/Vg/C2*(Rg / g4(t) + IG(t) - Ub * g2(t) - (U0 + Um / g3(t)) / Vg / 100 * G(t)),\n",
    "    g3'(t) = -beta*(g3(t)-1)/Ii(t)*(E * (Ip(t) / Vp - Ii(t) / Vi) - Ii(t) / ti),\n",
    "    g4'(t) = alpha / 26 / Vp * (g4(t)-1) * (h2(t) - h3(t)) / td,\n",
    "    y1(t) = G(t),\n",
    "    y2(t) = Ii(t),\n",
    "    y3(t) = Ip(t)\n",
    ")"
   ]
  },
  {
   "cell_type": "code",
   "execution_count": 4,
   "id": "a51eb50b",
   "metadata": {},
   "outputs": [
    {
     "name": "stderr",
     "output_type": "stream",
     "text": [
      "\u001b[36m\u001b[1m[ \u001b[22m\u001b[39m\u001b[36m\u001b[1mInfo: \u001b[22m\u001b[39mSummary of the model:\n",
      "\u001b[36m\u001b[1m[ \u001b[22m\u001b[39m\u001b[36m\u001b[1mInfo: \u001b[22m\u001b[39mState variables: h1, G, Ip, h2, h3, g1, g2, g3, Ii, g4\n",
      "\u001b[36m\u001b[1m[ \u001b[22m\u001b[39m\u001b[36m\u001b[1mInfo: \u001b[22m\u001b[39mParameters: C2, alpha, Um, C1, Ub, tp, E, Vg, td, ti, beta, Vi, Rg, U0\n",
      "\u001b[36m\u001b[1m[ \u001b[22m\u001b[39m\u001b[36m\u001b[1mInfo: \u001b[22m\u001b[39mInputs: IG\n",
      "\u001b[36m\u001b[1m[ \u001b[22m\u001b[39m\u001b[36m\u001b[1mInfo: \u001b[22m\u001b[39mOutputs: y\n"
     ]
    },
    {
     "data": {
      "text/plain": [
       "g1'(t) = (-IG(t)*g3(t)*Vg*g1(t)*g4(t) + IG(t)*g3(t)*Vg*g4(t) + 1//100*Um*g1(t)*g4(t)*G(t) - 1//100*Um*g4(t)*G(t) + g3(t)*Ub*g2(t)*Vg*g1(t)*g4(t) - g3(t)*Ub*g2(t)*Vg*g4(t) - g3(t)*Vg*g1(t)*Rg + g3(t)*Vg*Rg + 1//100*g3(t)*g1(t)*g4(t)*G(t)*U0 - 1//100*g3(t)*g4(t)*G(t)*U0)//(C1*g3(t)*Vg^2*g4(t))\n",
       "h3'(t) = (-h3(t) + h2(t))//td\n",
       "h2'(t) = (h1(t) - h2(t))//td\n",
       "Ii'(t) = (1//3*Ip(t)*E*ti*Vi - Ii(t)*E*ti - Ii(t)*Vi)//(ti*Vi)\n",
       "g3'(t) = (-1//3*g3(t)*Ip(t)*E*ti*beta*Vi + g3(t)*Ii(t)*E*ti*beta + g3(t)*Ii(t)*beta*Vi + 1//3*Ip(t)*E*ti*beta*Vi - Ii(t)*E*ti*beta - Ii(t)*beta*Vi)//(Ii(t)*ti*Vi)\n",
       "g4'(t) = (-1//78*alpha*h3(t)*g4(t) + 1//78*alpha*h3(t) + 1//78*alpha*g4(t)*h2(t) - 1//78*alpha*h2(t))//td\n",
       "G'(t) = (IG(t)*g3(t)*Vg*g4(t) - 1//100*Um*g4(t)*G(t) - g3(t)*Ub*g2(t)*Vg*g4(t) + g3(t)*Vg*Rg - 1//100*g3(t)*g4(t)*G(t)*U0)//(g3(t)*Vg*g4(t))\n",
       "h1'(t) = (-h1(t) + Ip(t))//td\n",
       "Ip'(t) = (-1//3*Ip(t)*tp*E*g1(t)*Vi - Ip(t)*g1(t)*Vi + tp*Ii(t)*E*g1(t) + 209*tp*Vi)//(tp*g1(t)*Vi)\n",
       "g2'(t) = (-IG(t)*g3(t)*g2(t)*Vg*g4(t) + IG(t)*g3(t)*Vg*g4(t) + 1//100*Um*g2(t)*g4(t)*G(t) - 1//100*Um*g4(t)*G(t) + g3(t)*Ub*g2(t)^2*Vg*g4(t) - g3(t)*Ub*g2(t)*Vg*g4(t) - g3(t)*g2(t)*Vg*Rg + 1//100*g3(t)*g2(t)*g4(t)*G(t)*U0 + g3(t)*Vg*Rg - 1//100*g3(t)*g4(t)*G(t)*U0)//(C2*g3(t)*Vg^2*g4(t))\n",
       "y(t) = G(t)\n"
      ]
     },
     "execution_count": 4,
     "metadata": {},
     "output_type": "execute_result"
    }
   ],
   "source": [
    "# Given G, fix V_p case\n",
    "ode3 = @ODEmodel(\n",
    "    Ip'(t) = 209 / g1(t) - E * (Ip(t) / 3 - Ii(t) / Vi) - Ip(t) / tp,\n",
    "    Ii'(t) = E * (Ip(t) / 3 - Ii(t) / Vi) - Ii(t) / ti,\n",
    "    G'(t) = Rg / g4(t) + IG(t) - Ub * g2(t) - (U0 + Um / g3(t)) / Vg / 100 * G(t),\n",
    "    h1'(t) = (Ip(t) - h1(t)) / td,\n",
    "    h2'(t) = (h1(t) - h2(t)) / td,\n",
    "    h3'(t) = (h2(t) - h3(t)) / td,\n",
    "    g1'(t) = -(g1(t)-1)/Vg/C1*(Rg / g4(t) + IG(t) - Ub * g2(t) - (U0 + Um / g3(t)) / Vg / 100 * G(t)),\n",
    "    g2'(t) = -(g2(t)-1)/Vg/C2*(Rg / g4(t) + IG(t) - Ub * g2(t) - (U0 + Um / g3(t)) / Vg / 100 * G(t)),\n",
    "    g3'(t) = -beta*(g3(t)-1)/Ii(t)*(E * (Ip(t) / 3 - Ii(t) / Vi) - Ii(t) / ti),\n",
    "    g4'(t) = alpha / 26 / 3 * (g4(t)-1) * (h2(t) - h3(t)) / td,\n",
    "    y(t) = G(t)\n",
    ")"
   ]
  },
  {
   "cell_type": "code",
   "execution_count": 5,
   "id": "9359b5b1",
   "metadata": {},
   "outputs": [
    {
     "name": "stderr",
     "output_type": "stream",
     "text": [
      "\u001b[36m\u001b[1m[ \u001b[22m\u001b[39m\u001b[36m\u001b[1mInfo: \u001b[22m\u001b[39mSummary of the model:\n",
      "\u001b[36m\u001b[1m[ \u001b[22m\u001b[39m\u001b[36m\u001b[1mInfo: \u001b[22m\u001b[39mState variables: h1, G, Ip, h2, h3, g1, g2, g3, Ii, g4\n",
      "\u001b[36m\u001b[1m[ \u001b[22m\u001b[39m\u001b[36m\u001b[1mInfo: \u001b[22m\u001b[39mParameters: C2, alpha, Um, C1, Ub, tp, E, Vg, td, ti, beta, Rg, U0\n",
      "\u001b[36m\u001b[1m[ \u001b[22m\u001b[39m\u001b[36m\u001b[1mInfo: \u001b[22m\u001b[39mInputs: IG\n",
      "\u001b[36m\u001b[1m[ \u001b[22m\u001b[39m\u001b[36m\u001b[1mInfo: \u001b[22m\u001b[39mOutputs: y\n"
     ]
    },
    {
     "data": {
      "text/plain": [
       "g1'(t) = (-IG(t)*g3(t)*Vg*g1(t)*g4(t) + IG(t)*g3(t)*Vg*g4(t) + 1//100*Um*g1(t)*g4(t)*G(t) - 1//100*Um*g4(t)*G(t) + g3(t)*Ub*g2(t)*Vg*g1(t)*g4(t) - g3(t)*Ub*g2(t)*Vg*g4(t) - g3(t)*Vg*g1(t)*Rg + g3(t)*Vg*Rg + 1//100*g3(t)*g1(t)*g4(t)*G(t)*U0 - 1//100*g3(t)*g4(t)*G(t)*U0)//(C1*g3(t)*Vg^2*g4(t))\n",
       "h1'(t) = (-h1(t) + Ip(t))//td\n",
       "Ii'(t) = (1//3*Ip(t)*E*ti - 1//11*Ii(t)*E*ti - Ii(t))//ti\n",
       "G'(t) = (IG(t)*g3(t)*Vg*g4(t) - 1//100*Um*g4(t)*G(t) - g3(t)*Ub*g2(t)*Vg*g4(t) + g3(t)*Vg*Rg - 1//100*g3(t)*g4(t)*G(t)*U0)//(g3(t)*Vg*g4(t))\n",
       "h3'(t) = (-h3(t) + h2(t))//td\n",
       "Ip'(t) = (-1//3*Ip(t)*tp*E*g1(t) - Ip(t)*g1(t) + 1//11*tp*Ii(t)*E*g1(t) + 209*tp)//(tp*g1(t))\n",
       "g2'(t) = (-IG(t)*g3(t)*g2(t)*Vg*g4(t) + IG(t)*g3(t)*Vg*g4(t) + 1//100*Um*g2(t)*g4(t)*G(t) - 1//100*Um*g4(t)*G(t) + g3(t)*Ub*g2(t)^2*Vg*g4(t) - g3(t)*Ub*g2(t)*Vg*g4(t) - g3(t)*g2(t)*Vg*Rg + 1//100*g3(t)*g2(t)*g4(t)*G(t)*U0 + g3(t)*Vg*Rg - 1//100*g3(t)*g4(t)*G(t)*U0)//(C2*g3(t)*Vg^2*g4(t))\n",
       "g3'(t) = (-1//3*g3(t)*Ip(t)*E*ti*beta + 1//11*g3(t)*Ii(t)*E*ti*beta + g3(t)*Ii(t)*beta + 1//3*Ip(t)*E*ti*beta - 1//11*Ii(t)*E*ti*beta - Ii(t)*beta)//(Ii(t)*ti)\n",
       "g4'(t) = (-1//78*alpha*h3(t)*g4(t) + 1//78*alpha*h3(t) + 1//78*alpha*g4(t)*h2(t) - 1//78*alpha*h2(t))//td\n",
       "h2'(t) = (h1(t) - h2(t))//td\n",
       "y(t) = G(t)\n"
      ]
     },
     "execution_count": 5,
     "metadata": {},
     "output_type": "execute_result"
    }
   ],
   "source": [
    "# Given G, fix V_p, V_i case\n",
    "ode4 = @ODEmodel(\n",
    "    Ip'(t) = 209 / g1(t) - E * (Ip(t) / 3 - Ii(t) / 11) - Ip(t) / tp,\n",
    "    Ii'(t) = E * (Ip(t) / 3 - Ii(t) / 11) - Ii(t) / ti,\n",
    "    G'(t) = Rg / g4(t) + IG(t) - Ub * g2(t) - (U0 + Um / g3(t)) / Vg / 100 * G(t),\n",
    "    h1'(t) = (Ip(t) - h1(t)) / td,\n",
    "    h2'(t) = (h1(t) - h2(t)) / td,\n",
    "    h3'(t) = (h2(t) - h3(t)) / td,\n",
    "    g1'(t) = -(g1(t)-1)/Vg/C1*(Rg / g4(t) + IG(t) - Ub * g2(t) - (U0 + Um / g3(t)) / Vg / 100 * G(t)),\n",
    "    g2'(t) = -(g2(t)-1)/Vg/C2*(Rg / g4(t) + IG(t) - Ub * g2(t) - (U0 + Um / g3(t)) / Vg / 100 * G(t)),\n",
    "    g3'(t) = -beta*(g3(t)-1)/Ii(t)*(E * (Ip(t) / 3 - Ii(t) / 11) - Ii(t) / ti),\n",
    "    g4'(t) = alpha / 26 / 3 * (g4(t)-1) * (h2(t) - h3(t)) / td,\n",
    "    y(t) = G(t)\n",
    ")"
   ]
  },
  {
   "cell_type": "code",
   "execution_count": 6,
   "id": "f124883a",
   "metadata": {},
   "outputs": [
    {
     "name": "stderr",
     "output_type": "stream",
     "text": [
      "\u001b[36m\u001b[1m[ \u001b[22m\u001b[39m\u001b[36m\u001b[1mInfo: \u001b[22m\u001b[39mSummary of the model:\n",
      "\u001b[36m\u001b[1m[ \u001b[22m\u001b[39m\u001b[36m\u001b[1mInfo: \u001b[22m\u001b[39mState variables: h1, G, Ip, h2, h3, g1, g2, g3, Ii, g4\n",
      "\u001b[36m\u001b[1m[ \u001b[22m\u001b[39m\u001b[36m\u001b[1mInfo: \u001b[22m\u001b[39mParameters: C2, alpha, Um, C1, Ub, tp, E, td, ti, beta, Rg, U0\n",
      "\u001b[36m\u001b[1m[ \u001b[22m\u001b[39m\u001b[36m\u001b[1mInfo: \u001b[22m\u001b[39mInputs: IG\n",
      "\u001b[36m\u001b[1m[ \u001b[22m\u001b[39m\u001b[36m\u001b[1mInfo: \u001b[22m\u001b[39mOutputs: y\n"
     ]
    },
    {
     "data": {
      "text/plain": [
       "h3'(t) = (-h3(t) + h2(t))//td\n",
       "Ip'(t) = (-1//3*Ip(t)*tp*E*g1(t) - Ip(t)*g1(t) + 1//11*tp*Ii(t)*E*g1(t) + 209*tp)//(tp*g1(t))\n",
       "Ii'(t) = (1//3*Ip(t)*E*ti - 1//11*Ii(t)*E*ti - Ii(t))//ti\n",
       "h1'(t) = (-h1(t) + Ip(t))//td\n",
       "g1'(t) = (-1//10*IG(t)*g3(t)*g1(t)*g4(t) + 1//10*IG(t)*g3(t)*g4(t) + 1//10000*Um*g1(t)*g4(t)*G(t) - 1//10000*Um*g4(t)*G(t) + 1//10*g3(t)*Ub*g2(t)*g1(t)*g4(t) - 1//10*g3(t)*Ub*g2(t)*g4(t) + 1//10000*g3(t)*g1(t)*g4(t)*G(t)*U0 - 1//10*g3(t)*g1(t)*Rg - 1//10000*g3(t)*g4(t)*G(t)*U0 + 1//10*g3(t)*Rg)//(C1*g3(t)*g4(t))\n",
       "h2'(t) = (h1(t) - h2(t))//td\n",
       "g2'(t) = (-1//10*IG(t)*g3(t)*g2(t)*g4(t) + 1//10*IG(t)*g3(t)*g4(t) + 1//10000*Um*g2(t)*g4(t)*G(t) - 1//10000*Um*g4(t)*G(t) + 1//10*g3(t)*Ub*g2(t)^2*g4(t) - 1//10*g3(t)*Ub*g2(t)*g4(t) + 1//10000*g3(t)*g2(t)*g4(t)*G(t)*U0 - 1//10*g3(t)*g2(t)*Rg - 1//10000*g3(t)*g4(t)*G(t)*U0 + 1//10*g3(t)*Rg)//(C2*g3(t)*g4(t))\n",
       "g3'(t) = (-1//3*g3(t)*Ip(t)*E*ti*beta + 1//11*g3(t)*Ii(t)*E*ti*beta + g3(t)*Ii(t)*beta + 1//3*Ip(t)*E*ti*beta - 1//11*Ii(t)*E*ti*beta - Ii(t)*beta)//(Ii(t)*ti)\n",
       "g4'(t) = (-1//78*alpha*h3(t)*g4(t) + 1//78*alpha*h3(t) + 1//78*alpha*g4(t)*h2(t) - 1//78*alpha*h2(t))//td\n",
       "G'(t) = (IG(t)*g3(t)*g4(t) - 1//1000*Um*g4(t)*G(t) - g3(t)*Ub*g2(t)*g4(t) - 1//1000*g3(t)*g4(t)*G(t)*U0 + g3(t)*Rg)//(g3(t)*g4(t))\n",
       "y(t) = G(t)\n"
      ]
     },
     "execution_count": 6,
     "metadata": {},
     "output_type": "execute_result"
    }
   ],
   "source": [
    "# Given G, fix V_p, V_i, V_g case\n",
    "ode5 = @ODEmodel(\n",
    "    Ip'(t) = 209 / g1(t) - E * (Ip(t) / 3 - Ii(t) / 11) - Ip(t) / tp,\n",
    "    Ii'(t) = E * (Ip(t) / 3 - Ii(t) / 11) - Ii(t) / ti,\n",
    "    G'(t) = Rg / g4(t) + IG(t) - Ub * g2(t) - (U0 + Um / g3(t)) / 10 / 100 * G(t),\n",
    "    h1'(t) = (Ip(t) - h1(t)) / td,\n",
    "    h2'(t) = (h1(t) - h2(t)) / td,\n",
    "    h3'(t) = (h2(t) - h3(t)) / td,\n",
    "    g1'(t) = -(g1(t)-1)/10/C1*(Rg / g4(t) + IG(t) - Ub * g2(t) - (U0 + Um / g3(t)) / 10 / 100 * G(t)),\n",
    "    g2'(t) = -(g2(t)-1)/10/C2*(Rg / g4(t) + IG(t) - Ub * g2(t) - (U0 + Um / g3(t)) / 10 / 100 * G(t)),\n",
    "    g3'(t) = -beta*(g3(t)-1)/Ii(t)*(E * (Ip(t) / 3 - Ii(t) / 11) - Ii(t) / ti),\n",
    "    g4'(t) = alpha / 26 / 3 * (g4(t)-1) * (h2(t) - h3(t)) / td,\n",
    "    y(t) = G(t)\n",
    ")"
   ]
  },
  {
   "cell_type": "code",
   "execution_count": 7,
   "id": "5481526f",
   "metadata": {},
   "outputs": [
    {
     "name": "stdout",
     "output_type": "stream",
     "text": [
      "Dict{Nemo.QQMPolyRingElem, Bool}(alpha => 0, td => 1, Ip => 1, Ub => 1, Vg => 0, Um => 0, h2 => 1, C2 => 0, h3 => 1, beta => 1, Ii => 0, ti => 0, tp => 0, g4 => 1, g1 => 1, U0 => 0, C1 => 0, g3 => 1, E => 0, Vp => 0, Vi => 0, Rg => 1, h1 => 1, G => 1, g2 => 1)"
     ]
    }
   ],
   "source": [
    "print(assess_local_identifiability(ode))"
   ]
  },
  {
   "cell_type": "code",
   "execution_count": 8,
   "id": "faf02634",
   "metadata": {},
   "outputs": [
    {
     "name": "stdout",
     "output_type": "stream",
     "text": [
      "Dict{Nemo.QQMPolyRingElem, Bool}(g2 => 1, g1 => 1, h2 => 1, Vp => 0, ti => 1, g4 => 1, Vi => 0, alpha => 0, Ii => 1, C1 => 0, tp => 1, Vg => 0, td => 1, C2 => 0, Rg => 1, h1 => 1, Ub => 1, beta => 1, U0 => 0, Um => 0, g3 => 1, Ip => 1, E => 0, G => 1, h3 => 1)"
     ]
    }
   ],
   "source": [
    "print(assess_local_identifiability(ode2))"
   ]
  },
  {
   "cell_type": "code",
   "execution_count": 9,
   "id": "16bb36a1",
   "metadata": {},
   "outputs": [
    {
     "name": "stdout",
     "output_type": "stream",
     "text": [
      "Dict{Nemo.QQMPolyRingElem, Bool}(h3 => 1, Vi => 0, U0 => 0, alpha => 1, h1 => 1, C1 => 0, g2 => 1, Vg => 0, Ip => 1, E => 0, td => 1, g1 => 1, tp => 0, Ii => 0, g3 => 1, g4 => 1, G => 1, Um => 0, Ub => 1, beta => 1, h2 => 1, C2 => 0, ti => 0, Rg => 1)"
     ]
    }
   ],
   "source": [
    "print(assess_local_identifiability(ode3))"
   ]
  },
  {
   "cell_type": "code",
   "execution_count": 10,
   "id": "1e4107a0",
   "metadata": {},
   "outputs": [
    {
     "name": "stdout",
     "output_type": "stream",
     "text": [
      "Dict{Nemo.QQMPolyRingElem, Bool}(E => 1, Ub => 1, Um => 0, Ii => 1, Vg => 0, td => 1, h2 => 1, h1 => 1, g3 => 1, h3 => 1, C2 => 0, tp => 1, g1 => 1, g2 => 1, G => 1, ti => 1, U0 => 0, C1 => 0, g4 => 1, alpha => 1, beta => 1, Rg => 1, Ip => 1)"
     ]
    }
   ],
   "source": [
    "print(assess_local_identifiability(ode4))"
   ]
  },
  {
   "cell_type": "code",
   "execution_count": 11,
   "id": "258e044f",
   "metadata": {},
   "outputs": [
    {
     "name": "stdout",
     "output_type": "stream",
     "text": [
      "Dict{Nemo.QQMPolyRingElem, Bool}(g2 => 1, g3 => 1, E => 1, tp => 1, beta => 1, td => 1, h3 => 1, Ip => 1, alpha => 1, U0 => 1, Rg => 1, g4 => 1, C1 => 1, h2 => 1, ti => 1, Ub => 1, Um => 1, Ii => 1, h1 => 1, g1 => 1, C2 => 1, G => 1)"
     ]
    }
   ],
   "source": [
    "print(assess_local_identifiability(ode5))"
   ]
  }
 ],
 "metadata": {
  "kernelspec": {
   "display_name": "Julia 1.9.1",
   "language": "julia",
   "name": "julia-1.9"
  },
  "language_info": {
   "file_extension": ".jl",
   "mimetype": "application/julia",
   "name": "julia",
   "version": "1.9.1"
  }
 },
 "nbformat": 4,
 "nbformat_minor": 5
}
